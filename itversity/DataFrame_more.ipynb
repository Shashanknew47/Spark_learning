{
 "cells": [
  {
   "cell_type": "code",
   "execution_count": 1,
   "id": "36bdc8ac",
   "metadata": {},
   "outputs": [],
   "source": [
    "from pyspark.sql import SparkSession\n",
    "\n",
    "import getpass\n",
    "username = getpass.getuser()\n",
    "\n",
    "spark = SparkSession. \\\n",
    "    builder. \\\n",
    "    config('spark.ui.port', '0'). \\\n",
    "    config(\"spark.sql.warehouse.dir\", f\"/user/{username}/warehouse\"). \\\n",
    "    enableHiveSupport(). \\\n",
    "    appName(f'{username} | Python - Windowing Functions'). \\\n",
    "    master('yarn'). \\\n",
    "    getOrCreate()\n"
   ]
  },
  {
   "cell_type": "markdown",
   "id": "d5229036",
   "metadata": {},
   "source": [
    " ### Count as special case \n",
    "   - When we use count with groupBy then, it acts as a Transformation\n",
    "   - else it acts as a Action"
   ]
  },
  {
   "cell_type": "markdown",
   "id": "875d6f71",
   "metadata": {},
   "source": [
    "#### Transformations\n",
    "\n",
    "- orderBy\n",
    "- filter\n",
    "- distinct\n",
    "- join"
   ]
  },
  {
   "cell_type": "markdown",
   "id": "08b960d4",
   "metadata": {},
   "source": [
    "### Actions\n",
    "\n",
    "- show\n",
    "- head\n",
    "- tail \n",
    "- take \n",
    "- collect\n"
   ]
  },
  {
   "cell_type": "markdown",
   "id": "c4de2ebc",
   "metadata": {},
   "source": [
    "### Utility Function\n",
    "\n",
    "- printSchema\n",
    "- cache\n",
    "- createOrReplaceTempView"
   ]
  },
  {
   "cell_type": "code",
   "execution_count": 2,
   "id": "f6090103",
   "metadata": {},
   "outputs": [
    {
     "name": "stdout",
     "output_type": "stream",
     "text": [
      "+---+----------+-----------+---------------+\n",
      "| id|order_date|customer_id|         status|\n",
      "+---+----------+-----------+---------------+\n",
      "|  1|2013-07-25|      11599|         CLOSED|\n",
      "|  2|2013-07-25|        256|PENDING_PAYMENT|\n",
      "|  3|2013-07-25|      12111|       COMPLETE|\n",
      "+---+----------+-----------+---------------+\n",
      "only showing top 3 rows\n",
      "\n"
     ]
    }
   ],
   "source": [
    "schema = \"id Integer,order_date date, customer_id Integer, status String \"\n",
    "\n",
    "\n",
    "df = spark.read.format('csv')\\\n",
    "    .option('path','orders')\\\n",
    "    .schema(schema)\\\n",
    "    .load()\n",
    "\n",
    "df.show(3)\n",
    "    "
   ]
  },
  {
   "cell_type": "markdown",
   "id": "b7c44ea3",
   "metadata": {},
   "source": [
    "#### 15 customers who placed most number of orders"
   ]
  },
  {
   "cell_type": "code",
   "execution_count": 32,
   "id": "ee29397c",
   "metadata": {},
   "outputs": [
    {
     "name": "stdout",
     "output_type": "stream",
     "text": [
      "+-----------+-----+\n",
      "|customer_id|count|\n",
      "+-----------+-----+\n",
      "|        569|   16|\n",
      "|      12431|   16|\n",
      "|       5897|   16|\n",
      "|       6316|   16|\n",
      "|       5624|   15|\n",
      "|       5654|   15|\n",
      "|      12284|   15|\n",
      "|       5283|   15|\n",
      "|        221|   15|\n",
      "|       4320|   15|\n",
      "+-----------+-----+\n",
      "only showing top 10 rows\n",
      "\n"
     ]
    }
   ],
   "source": [
    "from pyspark.sql.functions import col\n",
    "df.select('customer_id').groupBy('customer_id').count().sort(col('count').desc()).show(10)"
   ]
  },
  {
   "cell_type": "markdown",
   "id": "464030eb",
   "metadata": {},
   "source": [
    "#### Find number of orders under each order status"
   ]
  },
  {
   "cell_type": "code",
   "execution_count": 37,
   "id": "27e0116e",
   "metadata": {},
   "outputs": [
    {
     "name": "stdout",
     "output_type": "stream",
     "text": [
      "+---------------+-----+\n",
      "|         status|count|\n",
      "+---------------+-----+\n",
      "|       COMPLETE|22899|\n",
      "|PENDING_PAYMENT|15030|\n",
      "|     PROCESSING| 8275|\n",
      "|        PENDING| 7610|\n",
      "|         CLOSED| 7557|\n",
      "|        ON_HOLD| 3798|\n",
      "|SUSPECTED_FRAUD| 1558|\n",
      "|       CANCELED| 1428|\n",
      "| PAYMENT_REVIEW|  729|\n",
      "+---------------+-----+\n",
      "\n"
     ]
    }
   ],
   "source": [
    "df.groupBy('status').count().sort(col('count').desc()).show()"
   ]
  },
  {
   "cell_type": "markdown",
   "id": "40817911",
   "metadata": {},
   "source": [
    "#### Number of active customers who placed at least 1 order"
   ]
  },
  {
   "cell_type": "code",
   "execution_count": 46,
   "id": "1df9c2ac",
   "metadata": {},
   "outputs": [
    {
     "data": {
      "text/plain": [
       "11405"
      ]
     },
     "execution_count": 46,
     "metadata": {},
     "output_type": "execute_result"
    }
   ],
   "source": [
    "df.select('customer_id').where(\"status in ('COMPLETE','CLOSED')\").distinct().count()"
   ]
  },
  {
   "cell_type": "markdown",
   "id": "cd3b6245",
   "metadata": {},
   "source": [
    "### Customer with most number of closed orders "
   ]
  },
  {
   "cell_type": "code",
   "execution_count": 58,
   "id": "bc79cf96",
   "metadata": {},
   "outputs": [
    {
     "data": {
      "text/html": [
       "<table border='1'>\n",
       "<tr><th>customer_id</th><th>count</th></tr>\n",
       "<tr><td>1833</td><td>6</td></tr>\n",
       "<tr><td>1363</td><td>5</td></tr>\n",
       "<tr><td>1687</td><td>5</td></tr>\n",
       "<tr><td>5493</td><td>5</td></tr>\n",
       "<tr><td>7879</td><td>4</td></tr>\n",
       "<tr><td>3631</td><td>4</td></tr>\n",
       "<tr><td>2236</td><td>4</td></tr>\n",
       "<tr><td>1521</td><td>4</td></tr>\n",
       "<tr><td>7850</td><td>4</td></tr>\n",
       "<tr><td>10111</td><td>4</td></tr>\n",
       "<tr><td>10018</td><td>4</td></tr>\n",
       "<tr><td>2403</td><td>4</td></tr>\n",
       "<tr><td>12431</td><td>4</td></tr>\n",
       "<tr><td>7948</td><td>4</td></tr>\n",
       "</table>\n"
      ],
      "text/plain": [
       "+-----------+-----+\n",
       "|customer_id|count|\n",
       "+-----------+-----+\n",
       "|       1833|    6|\n",
       "|       1363|    5|\n",
       "|       1687|    5|\n",
       "|       5493|    5|\n",
       "|       7879|    4|\n",
       "|       3631|    4|\n",
       "|       2236|    4|\n",
       "|       1521|    4|\n",
       "|       7850|    4|\n",
       "|      10111|    4|\n",
       "|      10018|    4|\n",
       "|       2403|    4|\n",
       "|      12431|    4|\n",
       "|       7948|    4|\n",
       "+-----------+-----+"
      ]
     },
     "execution_count": 58,
     "metadata": {},
     "output_type": "execute_result"
    }
   ],
   "source": [
    "df.where(\"status in ('CLOSED')\").groupBy('customer_id').count().sort(\"count\",ascending=False).limit(14)"
   ]
  }
 ],
 "metadata": {
  "kernelspec": {
   "display_name": "Pyspark 3",
   "language": "python",
   "name": "pyspark3"
  },
  "language_info": {
   "codemirror_mode": {
    "name": "ipython",
    "version": 3
   },
   "file_extension": ".py",
   "mimetype": "text/x-python",
   "name": "python",
   "nbconvert_exporter": "python",
   "pygments_lexer": "ipython3",
   "version": "3.6.12"
  }
 },
 "nbformat": 4,
 "nbformat_minor": 5
}
